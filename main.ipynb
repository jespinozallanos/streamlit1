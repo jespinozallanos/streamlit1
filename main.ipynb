{
 "cells": [
  {
   "attachments": {},
   "cell_type": "markdown",
   "metadata": {},
   "source": [
    "Train, validate and develop a machine learning pipeline using PyCaret.\n",
    "Build a front-end web application with two functionalities: (i) online prediction and (ii) batch prediction.\n",
    "Deploy the web app on Heroku. Once deployed, it will become publicly available and can be accessed via Web URL."
   ]
  },
  {
   "attachments": {},
   "cell_type": "markdown",
   "metadata": {},
   "source": [
    "https://moez-62905.medium.com/build-a-simple-machine-learning-web-application-using-streamlit-and-deploy-on-heroku-in-5-easy-8264d3b21b43"
   ]
  },
  {
   "cell_type": "code",
   "execution_count": 15,
   "metadata": {},
   "outputs": [
    {
     "name": "stdout",
     "output_type": "stream",
     "text": [
      "<class 'pandas.core.frame.DataFrame'>\n",
      "RangeIndex: 1338 entries, 0 to 1337\n",
      "Data columns (total 7 columns):\n",
      " #   Column    Non-Null Count  Dtype  \n",
      "---  ------    --------------  -----  \n",
      " 0   age       1338 non-null   int64  \n",
      " 1   sex       1338 non-null   object \n",
      " 2   bmi       1338 non-null   float64\n",
      " 3   children  1338 non-null   int64  \n",
      " 4   smoker    1338 non-null   object \n",
      " 5   region    1338 non-null   object \n",
      " 6   charges   1338 non-null   float64\n",
      "dtypes: float64(2), int64(2), object(3)\n",
      "memory usage: 73.3+ KB\n"
     ]
    }
   ],
   "source": [
    "import pandas as pd\n",
    "\n",
    "data = pd.read_csv('d://datasets/insurance.csv')\n",
    "data.info()"
   ]
  },
  {
   "cell_type": "code",
   "execution_count": 39,
   "metadata": {},
   "outputs": [
    {
     "data": {
      "text/html": [
       "<div>\n",
       "<style scoped>\n",
       "    .dataframe tbody tr th:only-of-type {\n",
       "        vertical-align: middle;\n",
       "    }\n",
       "\n",
       "    .dataframe tbody tr th {\n",
       "        vertical-align: top;\n",
       "    }\n",
       "\n",
       "    .dataframe thead th {\n",
       "        text-align: right;\n",
       "    }\n",
       "</style>\n",
       "<table border=\"1\" class=\"dataframe\">\n",
       "  <thead>\n",
       "    <tr style=\"text-align: right;\">\n",
       "      <th></th>\n",
       "      <th>age</th>\n",
       "      <th>sex</th>\n",
       "      <th>bmi</th>\n",
       "      <th>children</th>\n",
       "      <th>smoker</th>\n",
       "      <th>region</th>\n",
       "      <th>charges</th>\n",
       "    </tr>\n",
       "  </thead>\n",
       "  <tbody>\n",
       "    <tr>\n",
       "      <th>0</th>\n",
       "      <td>19</td>\n",
       "      <td>female</td>\n",
       "      <td>27.900</td>\n",
       "      <td>0</td>\n",
       "      <td>yes</td>\n",
       "      <td>southwest</td>\n",
       "      <td>16884.92400</td>\n",
       "    </tr>\n",
       "    <tr>\n",
       "      <th>1</th>\n",
       "      <td>18</td>\n",
       "      <td>male</td>\n",
       "      <td>33.770</td>\n",
       "      <td>1</td>\n",
       "      <td>no</td>\n",
       "      <td>southeast</td>\n",
       "      <td>1725.55230</td>\n",
       "    </tr>\n",
       "    <tr>\n",
       "      <th>2</th>\n",
       "      <td>28</td>\n",
       "      <td>male</td>\n",
       "      <td>33.000</td>\n",
       "      <td>3</td>\n",
       "      <td>no</td>\n",
       "      <td>southeast</td>\n",
       "      <td>4449.46200</td>\n",
       "    </tr>\n",
       "    <tr>\n",
       "      <th>3</th>\n",
       "      <td>33</td>\n",
       "      <td>male</td>\n",
       "      <td>22.705</td>\n",
       "      <td>0</td>\n",
       "      <td>no</td>\n",
       "      <td>northwest</td>\n",
       "      <td>21984.47061</td>\n",
       "    </tr>\n",
       "    <tr>\n",
       "      <th>4</th>\n",
       "      <td>32</td>\n",
       "      <td>male</td>\n",
       "      <td>28.880</td>\n",
       "      <td>0</td>\n",
       "      <td>no</td>\n",
       "      <td>northwest</td>\n",
       "      <td>3866.85520</td>\n",
       "    </tr>\n",
       "  </tbody>\n",
       "</table>\n",
       "</div>"
      ],
      "text/plain": [
       "   age     sex     bmi  children smoker     region      charges\n",
       "0   19  female  27.900         0    yes  southwest  16884.92400\n",
       "1   18    male  33.770         1     no  southeast   1725.55230\n",
       "2   28    male  33.000         3     no  southeast   4449.46200\n",
       "3   33    male  22.705         0     no  northwest  21984.47061\n",
       "4   32    male  28.880         0     no  northwest   3866.85520"
      ]
     },
     "execution_count": 39,
     "metadata": {},
     "output_type": "execute_result"
    }
   ],
   "source": [
    "data.head()"
   ]
  },
  {
   "cell_type": "code",
   "execution_count": 1,
   "metadata": {},
   "outputs": [
    {
     "data": {
      "text/plain": [
       "'3.0.0.rc9'"
      ]
     },
     "execution_count": 1,
     "metadata": {},
     "output_type": "execute_result"
    }
   ],
   "source": [
    "# %pip install --pre pycaret\n",
    "import pycaret\n",
    "pycaret.__version__"
   ]
  },
  {
   "cell_type": "code",
   "execution_count": 16,
   "metadata": {},
   "outputs": [
    {
     "data": {
      "text/html": [
       "<style type=\"text/css\">\n",
       "#T_d6d87_row10_col1, #T_d6d87_row16_col1 {\n",
       "  background-color: lightgreen;\n",
       "}\n",
       "</style>\n",
       "<table id=\"T_d6d87_\">\n",
       "  <thead>\n",
       "    <tr>\n",
       "      <th class=\"blank level0\" >&nbsp;</th>\n",
       "      <th class=\"col_heading level0 col0\" >Description</th>\n",
       "      <th class=\"col_heading level0 col1\" >Value</th>\n",
       "    </tr>\n",
       "  </thead>\n",
       "  <tbody>\n",
       "    <tr>\n",
       "      <th id=\"T_d6d87_level0_row0\" class=\"row_heading level0 row0\" >0</th>\n",
       "      <td id=\"T_d6d87_row0_col0\" class=\"data row0 col0\" >Session id</td>\n",
       "      <td id=\"T_d6d87_row0_col1\" class=\"data row0 col1\" >123</td>\n",
       "    </tr>\n",
       "    <tr>\n",
       "      <th id=\"T_d6d87_level0_row1\" class=\"row_heading level0 row1\" >1</th>\n",
       "      <td id=\"T_d6d87_row1_col0\" class=\"data row1 col0\" >Target</td>\n",
       "      <td id=\"T_d6d87_row1_col1\" class=\"data row1 col1\" >charges</td>\n",
       "    </tr>\n",
       "    <tr>\n",
       "      <th id=\"T_d6d87_level0_row2\" class=\"row_heading level0 row2\" >2</th>\n",
       "      <td id=\"T_d6d87_row2_col0\" class=\"data row2 col0\" >Target type</td>\n",
       "      <td id=\"T_d6d87_row2_col1\" class=\"data row2 col1\" >Regression</td>\n",
       "    </tr>\n",
       "    <tr>\n",
       "      <th id=\"T_d6d87_level0_row3\" class=\"row_heading level0 row3\" >3</th>\n",
       "      <td id=\"T_d6d87_row3_col0\" class=\"data row3 col0\" >Original data shape</td>\n",
       "      <td id=\"T_d6d87_row3_col1\" class=\"data row3 col1\" >(1338, 7)</td>\n",
       "    </tr>\n",
       "    <tr>\n",
       "      <th id=\"T_d6d87_level0_row4\" class=\"row_heading level0 row4\" >4</th>\n",
       "      <td id=\"T_d6d87_row4_col0\" class=\"data row4 col0\" >Transformed data shape</td>\n",
       "      <td id=\"T_d6d87_row4_col1\" class=\"data row4 col1\" >(1338, 10)</td>\n",
       "    </tr>\n",
       "    <tr>\n",
       "      <th id=\"T_d6d87_level0_row5\" class=\"row_heading level0 row5\" >5</th>\n",
       "      <td id=\"T_d6d87_row5_col0\" class=\"data row5 col0\" >Transformed train set shape</td>\n",
       "      <td id=\"T_d6d87_row5_col1\" class=\"data row5 col1\" >(936, 10)</td>\n",
       "    </tr>\n",
       "    <tr>\n",
       "      <th id=\"T_d6d87_level0_row6\" class=\"row_heading level0 row6\" >6</th>\n",
       "      <td id=\"T_d6d87_row6_col0\" class=\"data row6 col0\" >Transformed test set shape</td>\n",
       "      <td id=\"T_d6d87_row6_col1\" class=\"data row6 col1\" >(402, 10)</td>\n",
       "    </tr>\n",
       "    <tr>\n",
       "      <th id=\"T_d6d87_level0_row7\" class=\"row_heading level0 row7\" >7</th>\n",
       "      <td id=\"T_d6d87_row7_col0\" class=\"data row7 col0\" >Ordinal features</td>\n",
       "      <td id=\"T_d6d87_row7_col1\" class=\"data row7 col1\" >2</td>\n",
       "    </tr>\n",
       "    <tr>\n",
       "      <th id=\"T_d6d87_level0_row8\" class=\"row_heading level0 row8\" >8</th>\n",
       "      <td id=\"T_d6d87_row8_col0\" class=\"data row8 col0\" >Numeric features</td>\n",
       "      <td id=\"T_d6d87_row8_col1\" class=\"data row8 col1\" >3</td>\n",
       "    </tr>\n",
       "    <tr>\n",
       "      <th id=\"T_d6d87_level0_row9\" class=\"row_heading level0 row9\" >9</th>\n",
       "      <td id=\"T_d6d87_row9_col0\" class=\"data row9 col0\" >Categorical features</td>\n",
       "      <td id=\"T_d6d87_row9_col1\" class=\"data row9 col1\" >3</td>\n",
       "    </tr>\n",
       "    <tr>\n",
       "      <th id=\"T_d6d87_level0_row10\" class=\"row_heading level0 row10\" >10</th>\n",
       "      <td id=\"T_d6d87_row10_col0\" class=\"data row10 col0\" >Preprocess</td>\n",
       "      <td id=\"T_d6d87_row10_col1\" class=\"data row10 col1\" >True</td>\n",
       "    </tr>\n",
       "    <tr>\n",
       "      <th id=\"T_d6d87_level0_row11\" class=\"row_heading level0 row11\" >11</th>\n",
       "      <td id=\"T_d6d87_row11_col0\" class=\"data row11 col0\" >Imputation type</td>\n",
       "      <td id=\"T_d6d87_row11_col1\" class=\"data row11 col1\" >simple</td>\n",
       "    </tr>\n",
       "    <tr>\n",
       "      <th id=\"T_d6d87_level0_row12\" class=\"row_heading level0 row12\" >12</th>\n",
       "      <td id=\"T_d6d87_row12_col0\" class=\"data row12 col0\" >Numeric imputation</td>\n",
       "      <td id=\"T_d6d87_row12_col1\" class=\"data row12 col1\" >mean</td>\n",
       "    </tr>\n",
       "    <tr>\n",
       "      <th id=\"T_d6d87_level0_row13\" class=\"row_heading level0 row13\" >13</th>\n",
       "      <td id=\"T_d6d87_row13_col0\" class=\"data row13 col0\" >Categorical imputation</td>\n",
       "      <td id=\"T_d6d87_row13_col1\" class=\"data row13 col1\" >mode</td>\n",
       "    </tr>\n",
       "    <tr>\n",
       "      <th id=\"T_d6d87_level0_row14\" class=\"row_heading level0 row14\" >14</th>\n",
       "      <td id=\"T_d6d87_row14_col0\" class=\"data row14 col0\" >Maximum one-hot encoding</td>\n",
       "      <td id=\"T_d6d87_row14_col1\" class=\"data row14 col1\" >25</td>\n",
       "    </tr>\n",
       "    <tr>\n",
       "      <th id=\"T_d6d87_level0_row15\" class=\"row_heading level0 row15\" >15</th>\n",
       "      <td id=\"T_d6d87_row15_col0\" class=\"data row15 col0\" >Encoding method</td>\n",
       "      <td id=\"T_d6d87_row15_col1\" class=\"data row15 col1\" >None</td>\n",
       "    </tr>\n",
       "    <tr>\n",
       "      <th id=\"T_d6d87_level0_row16\" class=\"row_heading level0 row16\" >16</th>\n",
       "      <td id=\"T_d6d87_row16_col0\" class=\"data row16 col0\" >Normalize</td>\n",
       "      <td id=\"T_d6d87_row16_col1\" class=\"data row16 col1\" >True</td>\n",
       "    </tr>\n",
       "    <tr>\n",
       "      <th id=\"T_d6d87_level0_row17\" class=\"row_heading level0 row17\" >17</th>\n",
       "      <td id=\"T_d6d87_row17_col0\" class=\"data row17 col0\" >Normalize method</td>\n",
       "      <td id=\"T_d6d87_row17_col1\" class=\"data row17 col1\" >zscore</td>\n",
       "    </tr>\n",
       "    <tr>\n",
       "      <th id=\"T_d6d87_level0_row18\" class=\"row_heading level0 row18\" >18</th>\n",
       "      <td id=\"T_d6d87_row18_col0\" class=\"data row18 col0\" >Fold Generator</td>\n",
       "      <td id=\"T_d6d87_row18_col1\" class=\"data row18 col1\" >KFold</td>\n",
       "    </tr>\n",
       "    <tr>\n",
       "      <th id=\"T_d6d87_level0_row19\" class=\"row_heading level0 row19\" >19</th>\n",
       "      <td id=\"T_d6d87_row19_col0\" class=\"data row19 col0\" >Fold Number</td>\n",
       "      <td id=\"T_d6d87_row19_col1\" class=\"data row19 col1\" >10</td>\n",
       "    </tr>\n",
       "    <tr>\n",
       "      <th id=\"T_d6d87_level0_row20\" class=\"row_heading level0 row20\" >20</th>\n",
       "      <td id=\"T_d6d87_row20_col0\" class=\"data row20 col0\" >CPU Jobs</td>\n",
       "      <td id=\"T_d6d87_row20_col1\" class=\"data row20 col1\" >-1</td>\n",
       "    </tr>\n",
       "    <tr>\n",
       "      <th id=\"T_d6d87_level0_row21\" class=\"row_heading level0 row21\" >21</th>\n",
       "      <td id=\"T_d6d87_row21_col0\" class=\"data row21 col0\" >Use GPU</td>\n",
       "      <td id=\"T_d6d87_row21_col1\" class=\"data row21 col1\" >False</td>\n",
       "    </tr>\n",
       "    <tr>\n",
       "      <th id=\"T_d6d87_level0_row22\" class=\"row_heading level0 row22\" >22</th>\n",
       "      <td id=\"T_d6d87_row22_col0\" class=\"data row22 col0\" >Log Experiment</td>\n",
       "      <td id=\"T_d6d87_row22_col1\" class=\"data row22 col1\" >False</td>\n",
       "    </tr>\n",
       "    <tr>\n",
       "      <th id=\"T_d6d87_level0_row23\" class=\"row_heading level0 row23\" >23</th>\n",
       "      <td id=\"T_d6d87_row23_col0\" class=\"data row23 col0\" >Experiment Name</td>\n",
       "      <td id=\"T_d6d87_row23_col1\" class=\"data row23 col1\" >reg-default-name</td>\n",
       "    </tr>\n",
       "    <tr>\n",
       "      <th id=\"T_d6d87_level0_row24\" class=\"row_heading level0 row24\" >24</th>\n",
       "      <td id=\"T_d6d87_row24_col0\" class=\"data row24 col0\" >USI</td>\n",
       "      <td id=\"T_d6d87_row24_col1\" class=\"data row24 col1\" >7610</td>\n",
       "    </tr>\n",
       "  </tbody>\n",
       "</table>\n"
      ],
      "text/plain": [
       "<pandas.io.formats.style.Styler at 0x129e1b613c8>"
      ]
     },
     "metadata": {},
     "output_type": "display_data"
    }
   ],
   "source": [
    "# init setup\n",
    "from pycaret.regression import *\n",
    "import pycaret\n",
    "\n",
    "s = setup(data, target = 'charges', session_id = 123, normalize = True,bin_numeric_features= ['age', 'bmi'])"
   ]
  },
  {
   "cell_type": "code",
   "execution_count": 17,
   "metadata": {},
   "outputs": [
    {
     "data": {
      "text/html": [
       "<style type=\"text/css\">\n",
       "#T_df54e_row10_col0, #T_df54e_row10_col1, #T_df54e_row10_col2, #T_df54e_row10_col3, #T_df54e_row10_col4, #T_df54e_row10_col5 {\n",
       "  background: yellow;\n",
       "}\n",
       "</style>\n",
       "<table id=\"T_df54e_\">\n",
       "  <thead>\n",
       "    <tr>\n",
       "      <th class=\"blank level0\" >&nbsp;</th>\n",
       "      <th class=\"col_heading level0 col0\" >MAE</th>\n",
       "      <th class=\"col_heading level0 col1\" >MSE</th>\n",
       "      <th class=\"col_heading level0 col2\" >RMSE</th>\n",
       "      <th class=\"col_heading level0 col3\" >R2</th>\n",
       "      <th class=\"col_heading level0 col4\" >RMSLE</th>\n",
       "      <th class=\"col_heading level0 col5\" >MAPE</th>\n",
       "    </tr>\n",
       "    <tr>\n",
       "      <th class=\"index_name level0\" >Fold</th>\n",
       "      <th class=\"blank col0\" >&nbsp;</th>\n",
       "      <th class=\"blank col1\" >&nbsp;</th>\n",
       "      <th class=\"blank col2\" >&nbsp;</th>\n",
       "      <th class=\"blank col3\" >&nbsp;</th>\n",
       "      <th class=\"blank col4\" >&nbsp;</th>\n",
       "      <th class=\"blank col5\" >&nbsp;</th>\n",
       "    </tr>\n",
       "  </thead>\n",
       "  <tbody>\n",
       "    <tr>\n",
       "      <th id=\"T_df54e_level0_row0\" class=\"row_heading level0 row0\" >0</th>\n",
       "      <td id=\"T_df54e_row0_col0\" class=\"data row0 col0\" >4393.5369</td>\n",
       "      <td id=\"T_df54e_row0_col1\" class=\"data row0 col1\" >36305612.3305</td>\n",
       "      <td id=\"T_df54e_row0_col2\" class=\"data row0 col2\" >6025.4139</td>\n",
       "      <td id=\"T_df54e_row0_col3\" class=\"data row0 col3\" >0.7832</td>\n",
       "      <td id=\"T_df54e_row0_col4\" class=\"data row0 col4\" >0.6498</td>\n",
       "      <td id=\"T_df54e_row0_col5\" class=\"data row0 col5\" >0.4759</td>\n",
       "    </tr>\n",
       "    <tr>\n",
       "      <th id=\"T_df54e_level0_row1\" class=\"row_heading level0 row1\" >1</th>\n",
       "      <td id=\"T_df54e_row1_col0\" class=\"data row1 col0\" >4454.6946</td>\n",
       "      <td id=\"T_df54e_row1_col1\" class=\"data row1 col1\" >44701691.7168</td>\n",
       "      <td id=\"T_df54e_row1_col2\" class=\"data row1 col2\" >6685.9324</td>\n",
       "      <td id=\"T_df54e_row1_col3\" class=\"data row1 col3\" >0.7401</td>\n",
       "      <td id=\"T_df54e_row1_col4\" class=\"data row1 col4\" >0.7324</td>\n",
       "      <td id=\"T_df54e_row1_col5\" class=\"data row1 col5\" >0.4227</td>\n",
       "    </tr>\n",
       "    <tr>\n",
       "      <th id=\"T_df54e_level0_row2\" class=\"row_heading level0 row2\" >2</th>\n",
       "      <td id=\"T_df54e_row2_col0\" class=\"data row2 col0\" >3796.6981</td>\n",
       "      <td id=\"T_df54e_row2_col1\" class=\"data row2 col1\" >29648804.2061</td>\n",
       "      <td id=\"T_df54e_row2_col2\" class=\"data row2 col2\" >5445.0716</td>\n",
       "      <td id=\"T_df54e_row2_col3\" class=\"data row2 col3\" >0.6246</td>\n",
       "      <td id=\"T_df54e_row2_col4\" class=\"data row2 col4\" >0.5496</td>\n",
       "      <td id=\"T_df54e_row2_col5\" class=\"data row2 col5\" >0.4686</td>\n",
       "    </tr>\n",
       "    <tr>\n",
       "      <th id=\"T_df54e_level0_row3\" class=\"row_heading level0 row3\" >3</th>\n",
       "      <td id=\"T_df54e_row3_col0\" class=\"data row3 col0\" >3773.9077</td>\n",
       "      <td id=\"T_df54e_row3_col1\" class=\"data row3 col1\" >27048525.1810</td>\n",
       "      <td id=\"T_df54e_row3_col2\" class=\"data row3 col2\" >5200.8197</td>\n",
       "      <td id=\"T_df54e_row3_col3\" class=\"data row3 col3\" >0.7741</td>\n",
       "      <td id=\"T_df54e_row3_col4\" class=\"data row3 col4\" >0.5428</td>\n",
       "      <td id=\"T_df54e_row3_col5\" class=\"data row3 col5\" >0.5102</td>\n",
       "    </tr>\n",
       "    <tr>\n",
       "      <th id=\"T_df54e_level0_row4\" class=\"row_heading level0 row4\" >4</th>\n",
       "      <td id=\"T_df54e_row4_col0\" class=\"data row4 col0\" >4537.7119</td>\n",
       "      <td id=\"T_df54e_row4_col1\" class=\"data row4 col1\" >44376655.6658</td>\n",
       "      <td id=\"T_df54e_row4_col2\" class=\"data row4 col2\" >6661.5806</td>\n",
       "      <td id=\"T_df54e_row4_col3\" class=\"data row4 col3\" >0.6699</td>\n",
       "      <td id=\"T_df54e_row4_col4\" class=\"data row4 col4\" >0.5807</td>\n",
       "      <td id=\"T_df54e_row4_col5\" class=\"data row4 col5\" >0.4291</td>\n",
       "    </tr>\n",
       "    <tr>\n",
       "      <th id=\"T_df54e_level0_row5\" class=\"row_heading level0 row5\" >5</th>\n",
       "      <td id=\"T_df54e_row5_col0\" class=\"data row5 col0\" >4072.6426</td>\n",
       "      <td id=\"T_df54e_row5_col1\" class=\"data row5 col1\" >36441553.1917</td>\n",
       "      <td id=\"T_df54e_row5_col2\" class=\"data row5 col2\" >6036.6840</td>\n",
       "      <td id=\"T_df54e_row5_col3\" class=\"data row5 col3\" >0.7656</td>\n",
       "      <td id=\"T_df54e_row5_col4\" class=\"data row5 col4\" >0.7406</td>\n",
       "      <td id=\"T_df54e_row5_col5\" class=\"data row5 col5\" >0.3937</td>\n",
       "    </tr>\n",
       "    <tr>\n",
       "      <th id=\"T_df54e_level0_row6\" class=\"row_heading level0 row6\" >6</th>\n",
       "      <td id=\"T_df54e_row6_col0\" class=\"data row6 col0\" >4236.8603</td>\n",
       "      <td id=\"T_df54e_row6_col1\" class=\"data row6 col1\" >40503827.1111</td>\n",
       "      <td id=\"T_df54e_row6_col2\" class=\"data row6 col2\" >6364.2617</td>\n",
       "      <td id=\"T_df54e_row6_col3\" class=\"data row6 col3\" >0.7244</td>\n",
       "      <td id=\"T_df54e_row6_col4\" class=\"data row6 col4\" >0.6192</td>\n",
       "      <td id=\"T_df54e_row6_col5\" class=\"data row6 col5\" >0.4535</td>\n",
       "    </tr>\n",
       "    <tr>\n",
       "      <th id=\"T_df54e_level0_row7\" class=\"row_heading level0 row7\" >7</th>\n",
       "      <td id=\"T_df54e_row7_col0\" class=\"data row7 col0\" >4872.3970</td>\n",
       "      <td id=\"T_df54e_row7_col1\" class=\"data row7 col1\" >46475255.9833</td>\n",
       "      <td id=\"T_df54e_row7_col2\" class=\"data row7 col2\" >6817.2763</td>\n",
       "      <td id=\"T_df54e_row7_col3\" class=\"data row7 col3\" >0.7444</td>\n",
       "      <td id=\"T_df54e_row7_col4\" class=\"data row7 col4\" >0.5422</td>\n",
       "      <td id=\"T_df54e_row7_col5\" class=\"data row7 col5\" >0.3923</td>\n",
       "    </tr>\n",
       "    <tr>\n",
       "      <th id=\"T_df54e_level0_row8\" class=\"row_heading level0 row8\" >8</th>\n",
       "      <td id=\"T_df54e_row8_col0\" class=\"data row8 col0\" >4683.5755</td>\n",
       "      <td id=\"T_df54e_row8_col1\" class=\"data row8 col1\" >42226069.9076</td>\n",
       "      <td id=\"T_df54e_row8_col2\" class=\"data row8 col2\" >6498.1590</td>\n",
       "      <td id=\"T_df54e_row8_col3\" class=\"data row8 col3\" >0.7273</td>\n",
       "      <td id=\"T_df54e_row8_col4\" class=\"data row8 col4\" >0.8243</td>\n",
       "      <td id=\"T_df54e_row8_col5\" class=\"data row8 col5\" >0.5704</td>\n",
       "    </tr>\n",
       "    <tr>\n",
       "      <th id=\"T_df54e_level0_row9\" class=\"row_heading level0 row9\" >9</th>\n",
       "      <td id=\"T_df54e_row9_col0\" class=\"data row9 col0\" >4702.0526</td>\n",
       "      <td id=\"T_df54e_row9_col1\" class=\"data row9 col1\" >43992756.1639</td>\n",
       "      <td id=\"T_df54e_row9_col2\" class=\"data row9 col2\" >6632.7035</td>\n",
       "      <td id=\"T_df54e_row9_col3\" class=\"data row9 col3\" >0.7166</td>\n",
       "      <td id=\"T_df54e_row9_col4\" class=\"data row9 col4\" >0.7766</td>\n",
       "      <td id=\"T_df54e_row9_col5\" class=\"data row9 col5\" >0.5122</td>\n",
       "    </tr>\n",
       "    <tr>\n",
       "      <th id=\"T_df54e_level0_row10\" class=\"row_heading level0 row10\" >Mean</th>\n",
       "      <td id=\"T_df54e_row10_col0\" class=\"data row10 col0\" >4352.4077</td>\n",
       "      <td id=\"T_df54e_row10_col1\" class=\"data row10 col1\" >39172075.1458</td>\n",
       "      <td id=\"T_df54e_row10_col2\" class=\"data row10 col2\" >6236.7902</td>\n",
       "      <td id=\"T_df54e_row10_col3\" class=\"data row10 col3\" >0.7270</td>\n",
       "      <td id=\"T_df54e_row10_col4\" class=\"data row10 col4\" >0.6558</td>\n",
       "      <td id=\"T_df54e_row10_col5\" class=\"data row10 col5\" >0.4629</td>\n",
       "    </tr>\n",
       "    <tr>\n",
       "      <th id=\"T_df54e_level0_row11\" class=\"row_heading level0 row11\" >Std</th>\n",
       "      <td id=\"T_df54e_row11_col0\" class=\"data row11 col0\" >358.3154</td>\n",
       "      <td id=\"T_df54e_row11_col1\" class=\"data row11 col1\" >6314156.2642</td>\n",
       "      <td id=\"T_df54e_row11_col2\" class=\"data row11 col2\" >523.9490</td>\n",
       "      <td id=\"T_df54e_row11_col3\" class=\"data row11 col3\" >0.0460</td>\n",
       "      <td id=\"T_df54e_row11_col4\" class=\"data row11 col4\" >0.1000</td>\n",
       "      <td id=\"T_df54e_row11_col5\" class=\"data row11 col5\" >0.0539</td>\n",
       "    </tr>\n",
       "  </tbody>\n",
       "</table>\n"
      ],
      "text/plain": [
       "<pandas.io.formats.style.Styler at 0x129e4641248>"
      ]
     },
     "metadata": {},
     "output_type": "display_data"
    }
   ],
   "source": [
    "# Model Training and Validation \n",
    "lr = create_model('lr')"
   ]
  },
  {
   "cell_type": "code",
   "execution_count": 18,
   "metadata": {},
   "outputs": [
    {
     "data": {
      "text/html": [],
      "text/plain": [
       "<IPython.core.display.HTML object>"
      ]
     },
     "metadata": {},
     "output_type": "display_data"
    },
    {
     "data": {
      "image/png": "[encoded data removed]",
      "text/plain": [
       "<Figure size 800x550 with 2 Axes>"
      ]
     },
     "metadata": {},
     "output_type": "display_data"
    }
   ],
   "source": [
    "# plot residuals of trained model\n",
    "plot_model(lr, plot = 'residuals')"
   ]
  },
  {
   "cell_type": "code",
   "execution_count": 19,
   "metadata": {},
   "outputs": [
    {
     "name": "stdout",
     "output_type": "stream",
     "text": [
      "Transformation Pipeline and Model Successfully Saved\n"
     ]
    },
    {
     "data": {
      "text/plain": [
       "(Pipeline(memory=FastMemory(location=C:\\Users\\jespi\\AppData\\Local\\Temp\\joblib),\n",
       "          steps=[('numerical_imputer',\n",
       "                  TransformerWrapper(include=['age', 'bmi', 'children'],\n",
       "                                     transformer=SimpleImputer())),\n",
       "                 ('categorical_imputer',\n",
       "                  TransformerWrapper(include=['sex', 'smoker', 'region'],\n",
       "                                     transformer=SimpleImputer(strategy='most_frequent'))),\n",
       "                 ('ordinal_encoding',\n",
       "                  TransformerW...\n",
       "                  TransformerWrapper(include=['region'],\n",
       "                                     transformer=OneHotEncoder(cols=['region'],\n",
       "                                                               handle_missing='return_nan',\n",
       "                                                               use_cat_names=True))),\n",
       "                 ('bin_numeric_features',\n",
       "                  TransformerWrapper(include=['age', 'bmi'],\n",
       "                                     transformer=KBinsDiscretizer(encode='ordinal',\n",
       "                                                                  strategy='kmeans'))),\n",
       "                 ('normalize', TransformerWrapper(transformer=StandardScaler())),\n",
       "                 ('trained_model', LinearRegression(n_jobs=-1))]),\n",
       " 'deployment_28042020.pkl')"
      ]
     },
     "execution_count": 19,
     "metadata": {},
     "output_type": "execute_result"
    }
   ],
   "source": [
    "# save pipeline on disk\n",
    "save_model(lr, model_name = 'deployment_28042020')"
   ]
  },
  {
   "cell_type": "code",
   "execution_count": 20,
   "metadata": {},
   "outputs": [
    {
     "name": "stdout",
     "output_type": "stream",
     "text": [
      "Transformation Pipeline and Model Successfully Loaded\n"
     ]
    }
   ],
   "source": [
    "deployment_28042020 = load_model('deployment_28042020')"
   ]
  },
  {
   "cell_type": "code",
   "execution_count": 21,
   "metadata": {},
   "outputs": [
    {
     "data": {
      "text/plain": [
       "Pipeline(memory=FastMemory(location=C:\\Users\\jespi\\AppData\\Local\\Temp\\joblib),\n",
       "         steps=[('numerical_imputer',\n",
       "                 TransformerWrapper(include=['age', 'bmi', 'children'],\n",
       "                                    transformer=SimpleImputer())),\n",
       "                ('categorical_imputer',\n",
       "                 TransformerWrapper(include=['sex', 'smoker', 'region'],\n",
       "                                    transformer=SimpleImputer(strategy='most_frequent'))),\n",
       "                ('ordinal_encoding',\n",
       "                 TransformerW...\n",
       "                 TransformerWrapper(include=['region'],\n",
       "                                    transformer=OneHotEncoder(cols=['region'],\n",
       "                                                              handle_missing='return_nan',\n",
       "                                                              use_cat_names=True))),\n",
       "                ('bin_numeric_features',\n",
       "                 TransformerWrapper(include=['age', 'bmi'],\n",
       "                                    transformer=KBinsDiscretizer(encode='ordinal',\n",
       "                                                                 strategy='kmeans'))),\n",
       "                ('normalize', TransformerWrapper(transformer=StandardScaler())),\n",
       "                ('trained_model', LinearRegression(n_jobs=-1))])"
      ]
     },
     "execution_count": 21,
     "metadata": {},
     "output_type": "execute_result"
    }
   ],
   "source": [
    "deployment_28042020\n"
   ]
  },
  {
   "cell_type": "code",
   "execution_count": null,
   "metadata": {},
   "outputs": [],
   "source": [
    "import requests\n",
    "url = 'https://pycaret-insurance.herokuapp.com/predict_api'\n",
    "pred = requests.post(url,json={'age':55, 'sex':'male', 'bmi':59, 'children':1, 'smoker':'male', 'region':'northwest'})\n",
    "print(pred.json())"
   ]
  },
  {
   "cell_type": "code",
   "execution_count": 42,
   "metadata": {},
   "outputs": [
    {
     "data": {
      "text/html": [
       "<div>\n",
       "<style scoped>\n",
       "    .dataframe tbody tr th:only-of-type {\n",
       "        vertical-align: middle;\n",
       "    }\n",
       "\n",
       "    .dataframe tbody tr th {\n",
       "        vertical-align: top;\n",
       "    }\n",
       "\n",
       "    .dataframe thead th {\n",
       "        text-align: right;\n",
       "    }\n",
       "</style>\n",
       "<table border=\"1\" class=\"dataframe\">\n",
       "  <thead>\n",
       "    <tr style=\"text-align: right;\">\n",
       "      <th></th>\n",
       "      <th>age</th>\n",
       "      <th>sex</th>\n",
       "      <th>bmi</th>\n",
       "      <th>children</th>\n",
       "      <th>region</th>\n",
       "      <th>smoker</th>\n",
       "    </tr>\n",
       "  </thead>\n",
       "  <tbody>\n",
       "    <tr>\n",
       "      <th>0</th>\n",
       "      <td>100</td>\n",
       "      <td>male</td>\n",
       "      <td>50</td>\n",
       "      <td>5</td>\n",
       "      <td>southwest</td>\n",
       "      <td>yes</td>\n",
       "    </tr>\n",
       "  </tbody>\n",
       "</table>\n",
       "</div>"
      ],
      "text/plain": [
       "   age   sex  bmi  children     region smoker\n",
       "0  100  male   50         5  southwest    yes"
      ]
     },
     "execution_count": 42,
     "metadata": {},
     "output_type": "execute_result"
    }
   ],
   "source": [
    "age = 100\n",
    "sex = 'male'\n",
    "bmi = 50\n",
    "children = 5\n",
    "region = 'southwest'\n",
    "smoker = 'yes'\n",
    "output=\"\"\n",
    "\n",
    "input_dict = {'age' : age, 'sex' : sex, 'bmi' : bmi, 'children' : children, 'region':region, 'smoker': smoker}\n",
    "input_df = pd.DataFrame([input_dict])\n",
    "input_df"
   ]
  },
  {
   "cell_type": "code",
   "execution_count": 45,
   "metadata": {},
   "outputs": [
    {
     "name": "stdout",
     "output_type": "stream",
     "text": [
      "Transformation Pipeline and Model Successfully Loaded\n"
     ]
    },
    {
     "data": {
      "text/html": [],
      "text/plain": [
       "<IPython.core.display.HTML object>"
      ]
     },
     "metadata": {},
     "output_type": "display_data"
    },
    {
     "data": {
      "text/html": [
       "<div>\n",
       "<style scoped>\n",
       "    .dataframe tbody tr th:only-of-type {\n",
       "        vertical-align: middle;\n",
       "    }\n",
       "\n",
       "    .dataframe tbody tr th {\n",
       "        vertical-align: top;\n",
       "    }\n",
       "\n",
       "    .dataframe thead th {\n",
       "        text-align: right;\n",
       "    }\n",
       "</style>\n",
       "<table border=\"1\" class=\"dataframe\">\n",
       "  <thead>\n",
       "    <tr style=\"text-align: right;\">\n",
       "      <th></th>\n",
       "      <th>age</th>\n",
       "      <th>sex</th>\n",
       "      <th>bmi</th>\n",
       "      <th>children</th>\n",
       "      <th>region</th>\n",
       "      <th>smoker</th>\n",
       "      <th>prediction_label</th>\n",
       "    </tr>\n",
       "  </thead>\n",
       "  <tbody>\n",
       "    <tr>\n",
       "      <th>0</th>\n",
       "      <td>100</td>\n",
       "      <td>male</td>\n",
       "      <td>50</td>\n",
       "      <td>5</td>\n",
       "      <td>southwest</td>\n",
       "      <td>yes</td>\n",
       "      <td>43264.681061</td>\n",
       "    </tr>\n",
       "  </tbody>\n",
       "</table>\n",
       "</div>"
      ],
      "text/plain": [
       "   age   sex  bmi  children     region smoker  prediction_label\n",
       "0  100  male   50         5  southwest    yes      43264.681061"
      ]
     },
     "execution_count": 45,
     "metadata": {},
     "output_type": "execute_result"
    }
   ],
   "source": [
    "model = load_model('deployment_28042020')\n",
    "\n",
    "predictions_df = predict_model(estimator=model, data=input_df)\n",
    "predictions_df"
   ]
  },
  {
   "cell_type": "code",
   "execution_count": 48,
   "metadata": {},
   "outputs": [
    {
     "data": {
      "text/plain": [
       "43264.681060663046"
      ]
     },
     "execution_count": 48,
     "metadata": {},
     "output_type": "execute_result"
    }
   ],
   "source": [
    "predictions = predictions_df['prediction_label'][0]\n",
    "predictions"
   ]
  }
 ],
 "metadata": {
  "kernelspec": {
   "display_name": "yourenvname",
   "language": "python",
   "name": "python3"
  },
  "language_info": {
   "codemirror_mode": {
    "name": "ipython",
    "version": 3
   },
   "file_extension": ".py",
   "mimetype": "text/x-python",
   "name": "python",
   "nbconvert_exporter": "python",
   "pygments_lexer": "ipython3",
   "version": "3.7.13"
  },
  "orig_nbformat": 4,
  "vscode": {
   "interpreter": {
    "hash": "ef3e507829bd901a61cb8b67944257a851200e552bd21db1aa5efa9f57efce69"
   }
  }
 },
 "nbformat": 4,
 "nbformat_minor": 2
}
